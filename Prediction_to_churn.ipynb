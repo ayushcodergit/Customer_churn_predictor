{
 "cells": [
  {
   "cell_type": "code",
   "execution_count": null,
   "id": "e39febba",
   "metadata": {},
   "outputs": [],
   "source": [
    "import pandas as pd\n",
    "import joblib\n",
    "\n",
    "#Load the trained model\n",
    "model = joblib.load('churn_model.pkl')  # ML model\n",
    "\n",
    "#Load the trained column names\n",
    "trained_columns = joblib.load('trained_columns.pkl')\n",
    "\n",
    "#Load clean dataset\n",
    "df = pd.read_csv('clean_churn.csv')\n",
    "X = df.drop('Churn', axis=1)\n",
    "\n",
    "#Select one sample\n",
    "sample = X.iloc[0:1]  \n",
    "\n",
    "\n",
    "for col in trained_columns:\n",
    "    if col not in sample.columns:\n",
    "        sample[col] = 0\n",
    "sample = sample[trained_columns]  # Reorder columns to match training\n",
    "\n",
    "#Predict\n",
    "pred = model.predict(sample)\n",
    "print(\"Predicted churn:\", \"Yes\" if pred[0] == 1 else \"No\")\n"
   ]
  }
 ],
 "metadata": {
  "language_info": {
   "name": "python"
  }
 },
 "nbformat": 4,
 "nbformat_minor": 5
}
