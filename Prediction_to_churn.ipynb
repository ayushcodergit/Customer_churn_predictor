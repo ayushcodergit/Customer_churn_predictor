{
 "cells": [
  {
   "cell_type": "code",
   "execution_count": 1,
   "id": "e39febba",
   "metadata": {},
   "outputs": [
    {
     "name": "stdout",
     "output_type": "stream",
     "text": [
      "Predicted churn: No\n"
     ]
    }
   ],
   "source": [
    "import pandas as pd\n",
    "import joblib\n",
    "\n",
    "#Load the trained model\n",
    "model = joblib.load('churn_model.pkl')  # ML model\n",
    "\n",
    "#Load the trained column names\n",
    "trained_columns = joblib.load('trained_columns.pkl')\n",
    "\n",
    "#Load clean dataset\n",
    "df = pd.read_csv('clean_churn.csv')\n",
    "X = df.drop('Churn', axis=1)\n",
    "\n",
    "#Select one sample\n",
    "sample = X.iloc[0:1]  \n",
    "\n",
    "\n",
    "for col in trained_columns:\n",
    "    if col not in sample.columns:\n",
    "        sample[col] = 0\n",
    "sample = sample[trained_columns]  # Reorder columns to match training\n",
    "\n",
    "#Predict\n",
    "pred = model.predict(sample)\n",
    "print(\"Predicted churn:\", \"Yes\" if pred[0] == 1 else \"No\")\n"
   ]
  }
 ],
 "metadata": {
  "kernelspec": {
   "display_name": "Python 3",
   "language": "python",
   "name": "python3"
  },
  "language_info": {
   "codemirror_mode": {
    "name": "ipython",
    "version": 3
   },
   "file_extension": ".py",
   "mimetype": "text/x-python",
   "name": "python",
   "nbconvert_exporter": "python",
   "pygments_lexer": "ipython3",
   "version": "3.11.9"
  }
 },
 "nbformat": 4,
 "nbformat_minor": 5
}
